{
 "cells": [
  {
   "cell_type": "code",
   "execution_count": 1,
   "id": "e4aeebae",
   "metadata": {
    "ExecuteTime": {
     "end_time": "2022-02-17T09:52:14.074266Z",
     "start_time": "2022-02-17T09:52:13.256079Z"
    }
   },
   "outputs": [],
   "source": [
    "import numpy as np\n",
    "import pandas as pd\n",
    "import matplotlib.pyplot as plt\n",
    "\n",
    "from sklearn.ensemble import IsolationForest\n",
    "from sklearn.preprocessing import LabelEncoder\n",
    "\n",
    "%matplotlib inline"
   ]
  },
  {
   "cell_type": "markdown",
   "id": "d808a564",
   "metadata": {},
   "source": [
    "# 导入数据"
   ]
  },
  {
   "cell_type": "code",
   "execution_count": 2,
   "id": "aa9adbe6",
   "metadata": {
    "ExecuteTime": {
     "end_time": "2022-02-17T09:52:21.071372Z",
     "start_time": "2022-02-17T09:52:14.082915Z"
    }
   },
   "outputs": [
    {
     "data": {
      "text/plain": [
       "(4898431, 42)"
      ]
     },
     "execution_count": 2,
     "metadata": {},
     "output_type": "execute_result"
    }
   ],
   "source": [
    "columns = [\"duration\", \"protocol_type\", \"service\", \"flag\", \"src_bytes\", \"dst_bytes\", \"land\", \"wrong_fragment\", \"urgent\", \"hot\", \"num_failed_logins\", \"logged_in\", \"num_compromised\", \"root_shell\", \"su_attempted\", \"num_root\", \"num_file_creations\", \"num_shells\", \"num_access_files\", \"num_outbound_cmds\", \"is_host_login\", \"is_guest_login\", \"count\", \"srv_count\", \"serror_rate\", \"srv_serror_rate\", \"rerror_rate\", \"srv_rerror_rate\", \"same_srv_rate\", \"diff_srv_rate\", \"srv_diff_host_rate\", \"dst_host_count\", \"dst_host_srv_count\", \"dst_host_same_srv_rate\", \"dst_host_diff_srv_rate\", \"dst_host_same_src_port_rate\", \"dst_host_srv_diff_host_rate\", \"dst_host_serror_rate\", \"dst_host_srv_serror_rate\", \"dst_host_rerror_rate\", \"dst_host_srv_rerror_rate\", \"label\"]\n",
    "df = pd.read_csv(\"/Users/renzhiqiang/Downloads/kddcup.data.gz\", sep=\",\", names=columns, index_col=None)\n",
    "df.shape"
   ]
  },
  {
   "cell_type": "markdown",
   "id": "4b44de6f",
   "metadata": {},
   "source": [
    "# 进行数据预处理"
   ]
  },
  {
   "cell_type": "code",
   "execution_count": 3,
   "id": "94055128",
   "metadata": {
    "ExecuteTime": {
     "end_time": "2022-02-17T09:52:23.056492Z",
     "start_time": "2022-02-17T09:52:22.656595Z"
    }
   },
   "outputs": [],
   "source": [
    "df = df[df[\"service\"]==\"http\"]\n",
    "df = df.drop(\"service\", axis=1)\n",
    "if \"service\" in columns:\n",
    "    columns.remove(\"service\")\n",
    "\n",
    "novelties =  df[df[\"label\"]!=\"normal.\"]\n",
    "novelties_normal = df[150000:154045]\n",
    "\n",
    "novelties = pd.concat([novelties, novelties_normal])\n",
    "\n",
    "normal = df[df[\"label\"] == \"normal.\"]"
   ]
  },
  {
   "cell_type": "code",
   "execution_count": 4,
   "id": "89d4f1ee",
   "metadata": {
    "ExecuteTime": {
     "end_time": "2022-02-17T09:52:23.414021Z",
     "start_time": "2022-02-17T09:52:23.409912Z"
    }
   },
   "outputs": [
    {
     "data": {
      "text/plain": [
       "((619046, 41), (8090, 41))"
      ]
     },
     "execution_count": 4,
     "metadata": {},
     "output_type": "execute_result"
    }
   ],
   "source": [
    "normal.shape, novelties.shape"
   ]
  },
  {
   "cell_type": "code",
   "execution_count": 5,
   "id": "d7857683",
   "metadata": {
    "ExecuteTime": {
     "end_time": "2022-02-17T09:52:23.950834Z",
     "start_time": "2022-02-17T09:52:23.752874Z"
    }
   },
   "outputs": [
    {
     "name": "stderr",
     "output_type": "stream",
     "text": [
      "/var/folders/97/nf61081d1l7135m5v32qhhxc0000gn/T/ipykernel_33878/62012241.py:6: SettingWithCopyWarning: \n",
      "A value is trying to be set on a copy of a slice from a DataFrame.\n",
      "Try using .loc[row_indexer,col_indexer] = value instead\n",
      "\n",
      "See the caveats in the documentation: https://pandas.pydata.org/pandas-docs/stable/user_guide/indexing.html#returning-a-view-versus-a-copy\n",
      "  normal[col] = encoded.transform(normal[col])\n"
     ]
    }
   ],
   "source": [
    "for col in normal.columns:\n",
    "    if normal[col].dtype == \"object\":\n",
    "        encoded = LabelEncoder()\n",
    "        encoded.fit(normal[col])\n",
    "        # 进行替换\n",
    "        normal[col] = encoded.transform(normal[col])\n",
    "        \n",
    "for col in novelties.columns:\n",
    "    if novelties[col].dtype == \"object\":\n",
    "        encoded = LabelEncoder()\n",
    "        encoded.fit(novelties[col])\n",
    "        # 进行替换\n",
    "        novelties[col] = encoded.transform(novelties[col])"
   ]
  },
  {
   "cell_type": "code",
   "execution_count": 6,
   "id": "0e0b7238",
   "metadata": {
    "ExecuteTime": {
     "end_time": "2022-02-17T09:52:24.936862Z",
     "start_time": "2022-02-17T09:52:24.265951Z"
    }
   },
   "outputs": [],
   "source": [
    "from sklearn.model_selection import train_test_split\n",
    "\n",
    "for f in range(0, 10):\n",
    "    normal = normal.iloc[np.random.permutation(len(normal))]\n",
    "\n",
    "train_data = normal[100000:250000]\n",
    "df_validate = normal[-50000:]\n",
    "\n",
    "x_train, x_test, y_train, y_test = train_test_split(train_data, train_data[\"label\"], test_size=0.2, random_state=42)\n",
    "\n",
    "x_val, y_val = df_validate, df_validate[\"label\"]\n",
    "\n",
    "x_train = x_train.drop(\"label\", axis=1)\n",
    "x_val = x_val.drop(\"label\", axis=1)\n",
    "x_test = x_test.drop(\"label\", axis=1)"
   ]
  },
  {
   "cell_type": "markdown",
   "id": "7ab145ff",
   "metadata": {},
   "source": [
    "# 进行模型训练"
   ]
  },
  {
   "cell_type": "code",
   "execution_count": 7,
   "id": "6e889419",
   "metadata": {
    "ExecuteTime": {
     "end_time": "2022-02-17T09:55:36.519798Z",
     "start_time": "2022-02-17T09:52:25.309555Z"
    }
   },
   "outputs": [
    {
     "data": {
      "text/plain": [
       "OneClassSVM(gamma=5e-05, nu=0.1)"
      ]
     },
     "execution_count": 7,
     "metadata": {},
     "output_type": "execute_result"
    }
   ],
   "source": [
    "from sklearn.svm import OneClassSVM\n",
    "ocsvm = OneClassSVM(kernel='rbf', gamma=0.00005,  nu=0.1)\n",
    "ocsvm.fit(x_train)"
   ]
  },
  {
   "cell_type": "markdown",
   "id": "71c79587",
   "metadata": {},
   "source": [
    "# 进行预测评估模型"
   ]
  },
  {
   "cell_type": "code",
   "execution_count": 10,
   "id": "807e2613",
   "metadata": {
    "ExecuteTime": {
     "end_time": "2022-02-17T10:00:46.234408Z",
     "start_time": "2022-02-17T10:00:00.716012Z"
    }
   },
   "outputs": [
    {
     "name": "stdout",
     "output_type": "stream",
     "text": [
      "Accuracy: 89.46%\n"
     ]
    }
   ],
   "source": [
    "preds = ocsvm.predict(x_val)\n",
    "\n",
    "score = 0\n",
    "for f in range(0, x_val.shape[0]):\n",
    "    if preds[f] == 1:\n",
    "        score = score+1\n",
    "\n",
    "accuracy = score / x_val.shape[0]\n",
    "print(\"Accuracy: {:.2%}\".format(accuracy))"
   ]
  },
  {
   "cell_type": "code",
   "execution_count": 16,
   "id": "7a877545",
   "metadata": {
    "ExecuteTime": {
     "end_time": "2022-02-17T10:03:51.425582Z",
     "start_time": "2022-02-17T10:03:44.453500Z"
    }
   },
   "outputs": [
    {
     "name": "stdout",
     "output_type": "stream",
     "text": [
      "AUC: 95.83%\n"
     ]
    }
   ],
   "source": [
    "from sklearn.metrics import roc_auc_score\n",
    "x = novelties.drop(\"label\", axis=1)\n",
    "\n",
    "preds = ocsvm.predict(x)\n",
    "matches = novelties[\"label\"]==4\n",
    "auc = roc_auc_score(preds, matches)\n",
    "\n",
    "print(\"AUC: {:.2%}\".format(auc))"
   ]
  },
  {
   "cell_type": "code",
   "execution_count": 17,
   "id": "82f9b22c",
   "metadata": {
    "ExecuteTime": {
     "end_time": "2022-02-17T10:03:51.872676Z",
     "start_time": "2022-02-17T10:03:51.821276Z"
    }
   },
   "outputs": [
    {
     "data": {
      "image/png": "[encoded data removed]",
      "text/plain": [
       "<Figure size 720x360 with 1 Axes>"
      ]
     },
     "metadata": {
      "needs_background": "light"
     },
     "output_type": "display_data"
    }
   ],
   "source": [
    "plt.figure(figsize=(10,5))\n",
    "plt.hist(preds, bins=[-1.5, -0.5] + [0.5, 1.5], align='mid')\n",
    "plt.xticks([-1, 1])\n",
    "plt.show()"
   ]
  },
  {
   "cell_type": "code",
   "execution_count": null,
   "id": "7da23b6e",
   "metadata": {},
   "outputs": [],
   "source": []
  }
 ],
 "metadata": {
  "kernelspec": {
   "display_name": "Python 3 (ipykernel)",
   "language": "python",
   "name": "python3"
  },
  "language_info": {
   "codemirror_mode": {
    "name": "ipython",
    "version": 3
   },
   "file_extension": ".py",
   "mimetype": "text/x-python",
   "name": "python",
   "nbconvert_exporter": "python",
   "pygments_lexer": "ipython3",
   "version": "3.8.12"
  },
  "toc": {
   "base_numbering": 1,
   "nav_menu": {},
   "number_sections": true,
   "sideBar": true,
   "skip_h1_title": false,
   "title_cell": "Table of Contents",
   "title_sidebar": "Contents",
   "toc_cell": false,
   "toc_position": {},
   "toc_section_display": true,
   "toc_window_display": false
  },
  "varInspector": {
   "cols": {
    "lenName": 16,
    "lenType": 16,
    "lenVar": 40
   },
   "kernels_config": {
    "python": {
     "delete_cmd_postfix": "",
     "delete_cmd_prefix": "del ",
     "library": "var_list.py",
     "varRefreshCmd": "print(var_dic_list())"
    },
    "r": {
     "delete_cmd_postfix": ") ",
     "delete_cmd_prefix": "rm(",
     "library": "var_list.r",
     "varRefreshCmd": "cat(var_dic_list()) "
    }
   },
   "types_to_exclude": [
    "module",
    "function",
    "builtin_function_or_method",
    "instance",
    "_Feature"
   ],
   "window_display": false
  }
 },
 "nbformat": 4,
 "nbformat_minor": 5
}
