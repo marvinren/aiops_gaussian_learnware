{
 "cells": [
  {
   "cell_type": "markdown",
   "id": "4d926fb5",
   "metadata": {},
   "source": [
    "参考\n",
    "https://jishuin.proginn.com/p/763bfbd700c2\n",
    "\n"
   ]
  },
  {
   "cell_type": "code",
   "execution_count": 1,
   "id": "ff095335",
   "metadata": {
    "ExecuteTime": {
     "end_time": "2022-02-24T03:03:12.066944Z",
     "start_time": "2022-02-24T03:03:11.427215Z"
    }
   },
   "outputs": [],
   "source": [
    "import torch\n",
    "import torch.nn as nn\n",
    "\n",
    "import numpy as np\n",
    "import pandas as pd\n",
    "import matplotlib.pyplot as plt\n",
    "%matplotlib inline"
   ]
  },
  {
   "cell_type": "code",
   "execution_count": 2,
   "id": "fe576c48",
   "metadata": {
    "ExecuteTime": {
     "end_time": "2022-02-24T03:03:13.715558Z",
     "start_time": "2022-02-24T03:03:13.136555Z"
    }
   },
   "outputs": [
    {
     "data": {
      "text/html": [
       "<div>\n",
       "<style scoped>\n",
       "    .dataframe tbody tr th:only-of-type {\n",
       "        vertical-align: middle;\n",
       "    }\n",
       "\n",
       "    .dataframe tbody tr th {\n",
       "        vertical-align: top;\n",
       "    }\n",
       "\n",
       "    .dataframe thead th {\n",
       "        text-align: right;\n",
       "    }\n",
       "</style>\n",
       "<table border=\"1\" class=\"dataframe\">\n",
       "  <thead>\n",
       "    <tr style=\"text-align: right;\">\n",
       "      <th></th>\n",
       "      <th>timestamp</th>\n",
       "      <th>value</th>\n",
       "      <th>label</th>\n",
       "      <th>KPI ID</th>\n",
       "    </tr>\n",
       "  </thead>\n",
       "  <tbody>\n",
       "    <tr>\n",
       "      <th>0</th>\n",
       "      <td>1493568000</td>\n",
       "      <td>1.901639</td>\n",
       "      <td>0</td>\n",
       "      <td>02e99bd4f6cfb33f</td>\n",
       "    </tr>\n",
       "    <tr>\n",
       "      <th>1</th>\n",
       "      <td>1493568060</td>\n",
       "      <td>1.786885</td>\n",
       "      <td>0</td>\n",
       "      <td>02e99bd4f6cfb33f</td>\n",
       "    </tr>\n",
       "    <tr>\n",
       "      <th>2</th>\n",
       "      <td>1493568120</td>\n",
       "      <td>2.000000</td>\n",
       "      <td>0</td>\n",
       "      <td>02e99bd4f6cfb33f</td>\n",
       "    </tr>\n",
       "    <tr>\n",
       "      <th>3</th>\n",
       "      <td>1493568180</td>\n",
       "      <td>1.885246</td>\n",
       "      <td>0</td>\n",
       "      <td>02e99bd4f6cfb33f</td>\n",
       "    </tr>\n",
       "    <tr>\n",
       "      <th>4</th>\n",
       "      <td>1493568240</td>\n",
       "      <td>1.819672</td>\n",
       "      <td>0</td>\n",
       "      <td>02e99bd4f6cfb33f</td>\n",
       "    </tr>\n",
       "  </tbody>\n",
       "</table>\n",
       "</div>"
      ],
      "text/plain": [
       "    timestamp     value  label            KPI ID\n",
       "0  1493568000  1.901639      0  02e99bd4f6cfb33f\n",
       "1  1493568060  1.786885      0  02e99bd4f6cfb33f\n",
       "2  1493568120  2.000000      0  02e99bd4f6cfb33f\n",
       "3  1493568180  1.885246      0  02e99bd4f6cfb33f\n",
       "4  1493568240  1.819672      0  02e99bd4f6cfb33f"
      ]
     },
     "execution_count": 2,
     "metadata": {},
     "output_type": "execute_result"
    }
   ],
   "source": [
    "df = pd.read_csv(\"/Users/renzhiqiang/Workspace/data/iops-kpi/train.csv\")\n",
    "kpi=df[df[\"KPI ID\"]=='02e99bd4f6cfb33f']\n",
    "kpi.head()"
   ]
  },
  {
   "cell_type": "code",
   "execution_count": 3,
   "id": "0692526d",
   "metadata": {
    "ExecuteTime": {
     "end_time": "2022-02-24T03:03:14.587866Z",
     "start_time": "2022-02-24T03:03:14.394227Z"
    }
   },
   "outputs": [],
   "source": [
    "from sklearn.preprocessing import MinMaxScaler\n",
    "\n",
    "scaler = MinMaxScaler(feature_range=(-1, 1))\n",
    "train_data_normalized = scaler.fit_transform(kpi['value'].values.reshape(-1, 1))\n",
    "train_data_normalized = torch.FloatTensor(train_data_normalized).view(-1)"
   ]
  },
  {
   "cell_type": "code",
   "execution_count": 4,
   "id": "91c500d1",
   "metadata": {
    "ExecuteTime": {
     "end_time": "2022-02-24T03:03:15.543954Z",
     "start_time": "2022-02-24T03:03:15.529224Z"
    }
   },
   "outputs": [
    {
     "data": {
      "text/plain": [
       "tensor([-0.6684, -0.6998, -0.6415,  ..., -0.4735, -0.4399, -0.5071])"
      ]
     },
     "execution_count": 4,
     "metadata": {},
     "output_type": "execute_result"
    }
   ],
   "source": [
    "train_data_normalized"
   ]
  },
  {
   "cell_type": "code",
   "execution_count": 75,
   "id": "8527e757",
   "metadata": {
    "ExecuteTime": {
     "end_time": "2022-02-24T06:06:37.327892Z",
     "start_time": "2022-02-24T06:06:37.206306Z"
    }
   },
   "outputs": [
    {
     "name": "stdout",
     "output_type": "stream",
     "text": [
      "(128562, 1)\n"
     ]
    }
   ],
   "source": [
    "from sklearn.preprocessing import MinMaxScaler\n",
    "\n",
    "def get_train_data(data, time_step=10):\n",
    "    scaler = MinMaxScaler(feature_range=(-1, 1))\n",
    "    normalized_data = scaler.fit_transform(data.reshape(-1, 1))\n",
    "    print(np.shape(normalized_data))\n",
    "    \n",
    "    train_x, train_y = [], []\n",
    "    \n",
    "    for i in range(len(normalized_data) - time_step - 1):\n",
    "        train_x.append(normalized_data[i:(i+time_step)])\n",
    "        train_y.append(normalized_data[i+time_step])\n",
    "    \n",
    "    return np.array(train_x), np.array(train_y)\n",
    "\n",
    "trainX, trainY = get_train_data(kpi['value'].values)"
   ]
  },
  {
   "cell_type": "code",
   "execution_count": 76,
   "id": "10e04756",
   "metadata": {
    "ExecuteTime": {
     "end_time": "2022-02-24T06:06:37.982084Z",
     "start_time": "2022-02-24T06:06:37.972716Z"
    }
   },
   "outputs": [
    {
     "data": {
      "text/plain": [
       "((128551, 10, 1), (128551, 1))"
      ]
     },
     "execution_count": 76,
     "metadata": {},
     "output_type": "execute_result"
    }
   ],
   "source": [
    "trainX.shape, trainY.shape"
   ]
  },
  {
   "cell_type": "code",
   "execution_count": 88,
   "id": "da9b2572",
   "metadata": {
    "ExecuteTime": {
     "end_time": "2022-02-24T06:14:29.312142Z",
     "start_time": "2022-02-24T06:14:29.300434Z"
    }
   },
   "outputs": [],
   "source": [
    "from torch.utils.data import Dataset, DataLoader\n",
    "\n",
    "class TimeSeriesDataset(Dataset):\n",
    "    def __init__(self, X, y):\n",
    "        super().__init__()\n",
    "        self.X = X\n",
    "        self.y = y\n",
    "           \n",
    "    def __getitem__(self, index):\n",
    "        return self.X[index], self.y[index]\n",
    "\n",
    "    def __len__(self):\n",
    "        return len(self.X) \n",
    "\n",
    "data_train = TimeSeriesDataset(trainX, trainY)\n",
    "data_loader_train = DataLoader(data_train, batch_size=64, pin_memory=True, shuffle=False)"
   ]
  },
  {
   "cell_type": "code",
   "execution_count": 143,
   "id": "1b25dae0",
   "metadata": {
    "ExecuteTime": {
     "end_time": "2022-02-24T06:49:29.521406Z",
     "start_time": "2022-02-24T06:49:29.504535Z"
    }
   },
   "outputs": [],
   "source": [
    "class LSTMPredict(nn.Module):\n",
    "    def __init__(self, input_size, hidden_size, seq_len=10, layer_num=2):\n",
    "        super(LSTMPredict, self).__init__()\n",
    "        \n",
    "        self.lstm = nn.LSTM(input_size, hidden_size, num_layers=layer_num, dropout=0.5)\n",
    "        self.hidden_out = nn.Linear(hidden_size, 1)\n",
    "        \n",
    "        self.h_s = None\n",
    "        self.h_c = None\n",
    "        \n",
    "        self.seq_len = seq_len\n",
    "        self.hidden_size = hidden_size\n",
    "        self.layer_num = layer_num\n",
    "        \n",
    "    def reset_hidden_state(self):\n",
    "        self.hidden=(\n",
    "            torch.zeros(self.layer_num, self.seq_len, self.hidden_size),\n",
    "            torch.zeros(self.layer_num, self.seq_len, self.hidden_size)\n",
    "        )\n",
    "        \n",
    "    def forward(self, x):\n",
    "        r_out, (h_s, h_c) = self.lstm(x, self.hidden)\n",
    "        output = self.hidden_out(r_out.view(self.seq_len, len(x), self.hidden_size)[-1])\n",
    "        return output\n",
    "        "
   ]
  },
  {
   "cell_type": "code",
   "execution_count": 144,
   "id": "d5673f0c",
   "metadata": {
    "ExecuteTime": {
     "end_time": "2022-02-24T06:49:32.974441Z",
     "start_time": "2022-02-24T06:49:32.963319Z"
    }
   },
   "outputs": [],
   "source": [
    "model = LSTMPredict(1, 32)\n",
    "loss_function = nn.MSELoss(reduction='sum')\n",
    "optimizer = torch.optim.Adam(model.parameters(), lr=0.001)\n"
   ]
  },
  {
   "cell_type": "code",
   "execution_count": 145,
   "id": "b17aa170",
   "metadata": {
    "ExecuteTime": {
     "end_time": "2022-02-24T06:49:33.873950Z",
     "start_time": "2022-02-24T06:49:33.864569Z"
    }
   },
   "outputs": [],
   "source": [
    "x, y = next(iter(data_loader_train))"
   ]
  },
  {
   "cell_type": "code",
   "execution_count": 147,
   "id": "2f87e9b5",
   "metadata": {
    "ExecuteTime": {
     "end_time": "2022-02-24T07:09:59.108761Z",
     "start_time": "2022-02-24T06:54:24.075168Z"
    }
   },
   "outputs": [
    {
     "name": "stdout",
     "output_type": "stream",
     "text": [
      "epoch:   0 loss: 0.15283582\n",
      "epoch:   1 loss: 0.14977801\n",
      "epoch:   2 loss: 0.14138746\n",
      "epoch:   3 loss: 0.11896440\n",
      "epoch:   4 loss: 0.12235024\n",
      "epoch:   5 loss: 0.12062144\n",
      "epoch:   6 loss: 0.12202520\n",
      "epoch:   7 loss: 0.18647559\n",
      "epoch:   8 loss: 0.14313266\n",
      "epoch:   9 loss: 0.19298013\n",
      "epoch:  10 loss: 0.13311486\n",
      "epoch:  11 loss: 0.17308266\n",
      "epoch:  12 loss: 0.11983070\n",
      "epoch:  13 loss: 0.20174898\n",
      "epoch:  14 loss: 0.18559262\n",
      "epoch:  15 loss: 0.23120174\n",
      "epoch:  16 loss: 0.15475635\n",
      "epoch:  17 loss: 0.12831305\n",
      "epoch:  18 loss: 0.18714251\n",
      "epoch:  19 loss: 0.20672846\n",
      "epoch:  20 loss: 0.19020726\n",
      "epoch:  21 loss: 0.16894551\n",
      "epoch:  22 loss: 0.18799607\n",
      "epoch:  23 loss: 0.15730071\n",
      "epoch:  24 loss: 0.16167255\n",
      "epoch:  25 loss: 0.12605976\n",
      "epoch:  26 loss: 0.17143360\n",
      "epoch:  27 loss: 0.15351622\n",
      "epoch:  28 loss: 0.13084440\n",
      "epoch:  29 loss: 0.19345705\n"
     ]
    }
   ],
   "source": [
    "epochs = 3\n",
    "\n",
    "for i in range(epochs):\n",
    "    total_train_loss = []\n",
    "    model.train()\n",
    "    for step, (b_x, b_y) in enumerate(data_loader_train):\n",
    "        \n",
    "        #print(b_x.shape, b_x.size(-1))\n",
    "        #print(type(b_x))\n",
    "        model.reset_hidden_state()\n",
    "        prediction = model(b_x.to(torch.float32))\n",
    "        \n",
    "        #print(prediction.shape, b_y.shape)\n",
    "        optimizer.zero_grad()\n",
    "        single_loss = loss_function(prediction.view(-1, 1), b_y.to(torch.float32))\n",
    "        total_train_loss.append(single_loss)\n",
    "        single_loss.backward()\n",
    "        optimizer.step()\n",
    "        #print(step)\n",
    "    print(f'epoch: {i:3} loss: {single_loss.item():10.8f}')\n",
    "    "
   ]
  },
  {
   "cell_type": "code",
   "execution_count": 121,
   "id": "18900eec",
   "metadata": {
    "ExecuteTime": {
     "end_time": "2022-02-24T06:34:49.261133Z",
     "start_time": "2022-02-24T06:34:49.220340Z"
    }
   },
   "outputs": [],
   "source": [
    "rnn = nn.LSTM(1, 32, 2)\n",
    "input = torch.randn(128, 10, 1)\n",
    "h0 = torch.randn(2, 10, 32)\n",
    "c0 = torch.randn(2, 10, 32)\n",
    "output, (hn, cn) = rnn(input, (h0, c0))"
   ]
  },
  {
   "cell_type": "code",
   "execution_count": 122,
   "id": "c30de7b3",
   "metadata": {
    "ExecuteTime": {
     "end_time": "2022-02-24T06:34:53.430207Z",
     "start_time": "2022-02-24T06:34:53.428058Z"
    }
   },
   "outputs": [
    {
     "data": {
      "text/plain": [
       "torch.Size([128, 10, 32])"
      ]
     },
     "execution_count": 122,
     "metadata": {},
     "output_type": "execute_result"
    }
   ],
   "source": [
    "output.shape"
   ]
  },
  {
   "cell_type": "code",
   "execution_count": 110,
   "id": "9a01d693",
   "metadata": {
    "ExecuteTime": {
     "end_time": "2022-02-24T06:21:45.030705Z",
     "start_time": "2022-02-24T06:21:45.015153Z"
    }
   },
   "outputs": [
    {
     "data": {
      "text/plain": [
       "torch.Size([20, 32])"
      ]
     },
     "execution_count": 110,
     "metadata": {},
     "output_type": "execute_result"
    }
   ],
   "source": [
    "output[:, -1, :].shape"
   ]
  },
  {
   "cell_type": "code",
   "execution_count": 115,
   "id": "89b51a4f",
   "metadata": {
    "ExecuteTime": {
     "end_time": "2022-02-24T06:24:32.518870Z",
     "start_time": "2022-02-24T06:24:32.506052Z"
    }
   },
   "outputs": [
    {
     "data": {
      "text/plain": [
       "torch.Size([20, 1, 32])"
      ]
     },
     "execution_count": 115,
     "metadata": {},
     "output_type": "execute_result"
    }
   ],
   "source": [
    "torch.unsqueeze(output[:, -1, :], 1).shape"
   ]
  },
  {
   "cell_type": "code",
   "execution_count": null,
   "id": "38a343ca",
   "metadata": {},
   "outputs": [],
   "source": []
  }
 ],
 "metadata": {
  "kernelspec": {
   "display_name": "Python 3 (ipykernel)",
   "language": "python",
   "name": "python3"
  },
  "language_info": {
   "codemirror_mode": {
    "name": "ipython",
    "version": 3
   },
   "file_extension": ".py",
   "mimetype": "text/x-python",
   "name": "python",
   "nbconvert_exporter": "python",
   "pygments_lexer": "ipython3",
   "version": "3.8.12"
  },
  "toc": {
   "base_numbering": 1,
   "nav_menu": {},
   "number_sections": true,
   "sideBar": true,
   "skip_h1_title": false,
   "title_cell": "Table of Contents",
   "title_sidebar": "Contents",
   "toc_cell": false,
   "toc_position": {},
   "toc_section_display": true,
   "toc_window_display": false
  },
  "varInspector": {
   "cols": {
    "lenName": 16,
    "lenType": 16,
    "lenVar": 40
   },
   "kernels_config": {
    "python": {
     "delete_cmd_postfix": "",
     "delete_cmd_prefix": "del ",
     "library": "var_list.py",
     "varRefreshCmd": "print(var_dic_list())"
    },
    "r": {
     "delete_cmd_postfix": ") ",
     "delete_cmd_prefix": "rm(",
     "library": "var_list.r",
     "varRefreshCmd": "cat(var_dic_list()) "
    }
   },
   "types_to_exclude": [
    "module",
    "function",
    "builtin_function_or_method",
    "instance",
    "_Feature"
   ],
   "window_display": false
  }
 },
 "nbformat": 4,
 "nbformat_minor": 5
}
